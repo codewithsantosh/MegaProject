{
  "nbformat": 4,
  "nbformat_minor": 0,
  "metadata": {
    "colab": {
      "provenance": []
    },
    "kernelspec": {
      "name": "python3",
      "display_name": "Python 3"
    },
    "language_info": {
      "name": "python"
    }
  },
  "cells": [
    {
      "cell_type": "code",
      "execution_count": null,
      "metadata": {
        "id": "uyq2iVOoKMiK"
      },
      "outputs": [],
      "source": [
        "from tensorflow import keras\n",
        "import numpy as np\n",
        "\n",
        "model = keras.models.load_model('model.h5')"
      ]
    },
    {
      "cell_type": "code",
      "source": [
        "user_input = \"salman khan is died\"\n"
      ],
      "metadata": {
        "id": "rp4GSz1-VPNl"
      },
      "execution_count": null,
      "outputs": []
    },
    {
      "cell_type": "code",
      "source": [
        "preprocessed_input = user_input.lower()"
      ],
      "metadata": {
        "id": "d1Q5t0rrbvc9"
      },
      "execution_count": null,
      "outputs": []
    },
    {
      "cell_type": "code",
      "source": [
        "input_data = np.array([preprocessed_input])"
      ],
      "metadata": {
        "id": "9pdoB4bqb2gQ"
      },
      "execution_count": null,
      "outputs": []
    },
    {
      "cell_type": "code",
      "source": [
        "input_data = np.expand_dims(input_data, axis=1)"
      ],
      "metadata": {
        "id": "SX7R-zFJb6a9"
      },
      "execution_count": null,
      "outputs": []
    },
    {
      "cell_type": "code",
      "source": [
        "from keras.preprocessing.text import Tokenizer"
      ],
      "metadata": {
        "id": "PcNzz5A2e9ph"
      },
      "execution_count": null,
      "outputs": []
    },
    {
      "cell_type": "code",
      "source": [
        "tokenizer = Tokenizer(num_words=10000, oov_token='<OOV>')\n",
        "tokenizer.fit_on_texts(user_input)\n",
        "sequences = tokenizer.texts_to_sequences(user_input)\n",
        "\n"
      ],
      "metadata": {
        "id": "cJJpqDlOfCv7"
      },
      "execution_count": null,
      "outputs": []
    },
    {
      "cell_type": "code",
      "source": [
        "from tensorflow.keras.preprocessing.sequence import pad_sequences\n"
      ],
      "metadata": {
        "id": "n15gGeO_h2AB"
      },
      "execution_count": null,
      "outputs": []
    },
    {
      "cell_type": "code",
      "source": [
        "from tensorflow.keras.layers import Embedding\n",
        "from tensorflow.keras.preprocessing.sequence import pad_sequences\n",
        "from tensorflow.keras.models import Sequential\n",
        "from tensorflow.keras.preprocessing.text import one_hot\n",
        "from tensorflow.keras.layers import LSTM\n",
        "from tensorflow.keras.layers import Dense\n",
        "from tensorflow.keras.layers import Bidirectional\n",
        "from tensorflow.keras.layers import Dropout"
      ],
      "metadata": {
        "id": "n9zlVrmbzEU1"
      },
      "execution_count": null,
      "outputs": []
    },
    {
      "cell_type": "code",
      "source": [
        "sent_length=20\n",
        "new_sequences=tokenizer.texts_to_sequences(user_input)\n",
        "new_padded_sequences = pad_sequences(new_sequences, maxlen=sent_length)\n",
        "predictions = model.predict(new_padded_sequences)\n",
        "print('Predictions:', predictions[1])"
      ],
      "metadata": {
        "colab": {
          "base_uri": "https://localhost:8080/"
        },
        "id": "1TcBsbRPg31U",
        "outputId": "2bfeb7d6-54c8-4230-bd0b-6618f6390ca1"
      },
      "execution_count": null,
      "outputs": [
        {
          "output_type": "stream",
          "name": "stderr",
          "text": [
            "WARNING:tensorflow:6 out of the last 6 calls to <function Model.make_predict_function.<locals>.predict_function at 0x7ff1a50c3ac0> triggered tf.function retracing. Tracing is expensive and the excessive number of tracings could be due to (1) creating @tf.function repeatedly in a loop, (2) passing tensors with different shapes, (3) passing Python objects instead of tensors. For (1), please define your @tf.function outside of the loop. For (2), @tf.function has reduce_retracing=True option that can avoid unnecessary retracing. For (3), please refer to https://www.tensorflow.org/guide/function#controlling_retracing and https://www.tensorflow.org/api_docs/python/tf/function for  more details.\n"
          ]
        },
        {
          "output_type": "stream",
          "name": "stdout",
          "text": [
            "1/1 [==============================] - 0s 443ms/step\n",
            "Predictions: [0.9999234]\n"
          ]
        }
      ]
    },
    {
      "cell_type": "code",
      "source": [
        "if predictions.any() >= 0.5:\n",
        "     print(\"Prediction: Rumor\")\n",
        "else:\n",
        "     print(\"Prediction: No Rumor\")"
      ],
      "metadata": {
        "colab": {
          "base_uri": "https://localhost:8080/"
        },
        "id": "Xh2_BPrCjMBG",
        "outputId": "af262de7-6254-4372-b9fb-9399d1ac5754"
      },
      "execution_count": null,
      "outputs": [
        {
          "output_type": "stream",
          "name": "stdout",
          "text": [
            "Prediction: Rumor\n"
          ]
        }
      ]
    }
  ]
}